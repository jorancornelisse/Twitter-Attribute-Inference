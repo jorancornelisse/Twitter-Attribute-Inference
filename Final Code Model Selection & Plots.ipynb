{
 "cells": [
  {
   "cell_type": "code",
   "execution_count": 33,
   "metadata": {},
   "outputs": [],
   "source": [
    "from sklearn.svm import LinearSVC\n",
    "from sklearn.model_selection import cross_val_score\n",
    "from sklearn.model_selection import cross_validate\n",
    "from sklearn.naive_bayes import GaussianNB\n",
    "from sklearn.multiclass import OneVsRestClassifier\n",
    "from sklearn.neural_network import MLPClassifier\n",
    "from sklearn.ensemble import RandomForestClassifier\n",
    "from sklearn.naive_bayes import MultinomialNB\n",
    "from sklearn.model_selection import cross_val_score\n",
    "from sklearn.naive_bayes import GaussianNB\n",
    "from sklearn.linear_model import LogisticRegression\n",
    "from xgboost import XGBClassifier\n",
    "from sklearn.linear_model import SGDClassifier\n",
    "\n",
    "import pandas as pd\n",
    "import numpy as np\n",
    "\n",
    "from sklearn import preprocessing"
   ]
  },
  {
   "cell_type": "code",
   "execution_count": 3,
   "metadata": {
    "collapsed": true
   },
   "outputs": [],
   "source": [
    "data = pd.read_csv('data_processed.csv', lineterminator='\\n')"
   ]
  },
  {
   "cell_type": "code",
   "execution_count": 4,
   "metadata": {},
   "outputs": [
    {
     "data": {
      "text/plain": [
       "(96, 156)"
      ]
     },
     "execution_count": 4,
     "metadata": {},
     "output_type": "execute_result"
    }
   ],
   "source": [
    "data.shape"
   ]
  },
  {
   "cell_type": "code",
   "execution_count": 5,
   "metadata": {},
   "outputs": [],
   "source": [
    "features = data[['AccountTweets', 'AccountFollowers', 'AccountFollowing', 'rt_count', 'urls_count',\n",
    "       'capital_count', 'tweet_length', 'punctuation_count', 'hashtag_count', \n",
    "       'emoji_count', 'laugh_count', 'swear_count',\n",
    "       'diff_words_count', 'abbr_count', 'count_13_18_pos',\n",
    "       'count_13_18_neg', 'count_19_22_pos', 'count_19_22_neg',\n",
    "       'count_23_29_pos', 'count_23_29_neg', 'count_30_pos', 'count_30_neg',\n",
    "       'nnp', 'nn', 'rb', 'in', 'fw', 'nnps', 'vbp', 'cd', 'vbd', 'md', 'vb',\n",
    "       'vbg', 'vbz', 'rbr', 'vbn', 'jjs', 'cc',\n",
    "       'site', 'creation_date', 'literal_emojis', \n",
    "                     'emoji0',\n",
    " 'emoji1',\n",
    " 'emoji2',\n",
    " 'emoji3',\n",
    " 'emoji4',\n",
    " 'emoji5',\n",
    " 'emoji6',\n",
    " 'emoji7',\n",
    " 'emoji8',\n",
    " 'emoji9',\n",
    " 'emoji10',\n",
    " 'emoji11',\n",
    " 'emoji12',\n",
    " 'emoji13',\n",
    " 'emoji14',\n",
    " 'emoji15',\n",
    " 'emoji16',\n",
    " 'emoji17',\n",
    " 'emoji18',\n",
    " 'emoji19',\n",
    " 'emoji20',\n",
    " 'emoji21',\n",
    " 'emoji22',\n",
    " 'emoji23',\n",
    " 'emoji24',\n",
    " 'emoji25',\n",
    " 'emoji26',\n",
    " 'emoji27',\n",
    " 'emoji28',\n",
    " 'emoji29',\n",
    " 'emoji30',\n",
    " 'emoji31',\n",
    " 'emoji32',\n",
    " 'emoji33',\n",
    " 'emoji34',\n",
    " 'emoji35',\n",
    " 'emoji36',\n",
    " 'emoji37',\n",
    " 'emoji38',\n",
    " 'emoji39',\n",
    " 'emoji40',\n",
    " 'emoji41',\n",
    " 'emoji42',\n",
    " 'emoji43',\n",
    " 'emoji44',\n",
    " 'emoji45',\n",
    " 'emoji46',\n",
    " 'emoji47',\n",
    " 'emoji48',\n",
    " 'emoji49',\n",
    " 'emoji50',\n",
    " 'emoji51',\n",
    " 'emoji52',\n",
    " 'emoji53',\n",
    " 'emoji54',\n",
    " 'emoji55',\n",
    " 'emoji56',\n",
    " 'emoji57',\n",
    " 'emoji58',\n",
    " 'emoji59',\n",
    " 'emoji60',\n",
    " 'emoji61',\n",
    " 'emoji62',\n",
    " 'emoji63',\n",
    " 'emoji64',\n",
    " 'emoji65',\n",
    " 'emoji66',\n",
    " 'emoji67',\n",
    " 'emoji68',\n",
    " 'emoji69',\n",
    " 'emoji70',\n",
    " 'emoji71',\n",
    " 'emoji72',\n",
    " 'emoji73',\n",
    " 'emoji74',\n",
    " 'emoji75',\n",
    " 'emoji76',\n",
    " 'emoji77',\n",
    " 'emoji78',\n",
    " 'emoji79',\n",
    " 'emoji80',\n",
    " 'emoji81',\n",
    " 'emoji82',\n",
    " 'emoji83',\n",
    " 'emoji84',\n",
    " 'emoji85',\n",
    " 'emoji86',\n",
    " 'emoji87',\n",
    " 'emoji88',\n",
    " 'emoji89',\n",
    " 'emoji90',\n",
    " 'emoji91',\n",
    " 'emoji92',\n",
    " 'emoji93',\n",
    " 'emoji94',\n",
    " 'emoji95',\n",
    " 'emoji96',\n",
    " 'emoji97',\n",
    " 'emoji98',\n",
    " 'emoji99']]\n",
    "labels = data['Class']"
   ]
  },
  {
   "cell_type": "code",
   "execution_count": 6,
   "metadata": {},
   "outputs": [],
   "source": [
    "normalized_features = preprocessing.normalize(features)"
   ]
  },
  {
   "cell_type": "code",
   "execution_count": 7,
   "metadata": {},
   "outputs": [],
   "source": [
    "from sklearn.model_selection import train_test_split\n",
    "X_train, X_test, y_train, y_test = train_test_split(normalized_features, labels, test_size=0.2)"
   ]
  },
  {
   "cell_type": "code",
   "execution_count": null,
   "metadata": {},
   "outputs": [],
   "source": [
    "models = [\n",
    "    RandomForestClassifier(),\n",
    "    LinearSVC(),\n",
    "    MultinomialNB(),\n",
    "    LogisticRegression(random_state=0),\n",
    "    XGBClassifier(random_state=0),\n",
    "    GaussianNB(),\n",
    "    OneVsRestClassifier(LinearSVC(random_state=0)),\n",
    "    MLPClassifier(),\n",
    "    LogisticRegression(penalty=\"elasticnet\", random_state=0),\n",
    "    SGDClassifier()\n",
    "]\n",
    "CV = 5\n",
    "cv_df = pd.DataFrame(index=range(CV * len(models)))\n",
    "entries = []\n",
    "for model in models:\n",
    "    model_name = model.__class__.__name__\n",
    "    accuracies = cross_val_score(model, X_train, y_train, scoring='accuracy', cv=CV)\n",
    "    for fold_idx, accuracy in enumerate(accuracies):\n",
    "        entries.append((model_name, fold_idx, accuracy))\n",
    "    print(model)\n",
    "cv_df = pd.DataFrame(entries, columns=['model_name', 'fold_idx', 'accuracy'])\n",
    "print(model)"
   ]
  },
  {
   "cell_type": "code",
   "execution_count": 21,
   "metadata": {},
   "outputs": [],
   "source": [
    "# scorings = ['accuracy', 'f1_macro', 'f1_micro', 'precision', 'recall']\n",
    "# from xgboost import XGBClassifier\n",
    "# model = XGBClassifier(n_estimators=100, max_depth = 7, learning_rate=0.05)\n",
    "# cross_validate(model, X_train, y_train, scoring=scorings, cv=5)"
   ]
  },
  {
   "cell_type": "code",
   "execution_count": 43,
   "metadata": {},
   "outputs": [],
   "source": [
    "from sklearn.model_selection import GridSearchCV\n",
    "\n",
    "xgb_model = XGBClassifier()\n",
    "\n",
    "parameters = {'learning_rate': list(np.linspace(0.05, 0.95, 19)),\n",
    "              'max_depth': [3,4,5,6,7,8,9,10,11],\n",
    "              'n_estimators': [100, 250, 500, 750, 1000],\n",
    "              'seed': [1337]}\n",
    "\n",
    "\n",
    "clf = GridSearchCV(xgb_model, parameters, n_jobs=5, \n",
    "                   cv=5, \n",
    "                   scoring='accuracy',\n",
    "                   refit=True)\n",
    "\n",
    "clf.fit(X_train, y_train)\n",
    "clf.best_estimator_"
   ]
  },
  {
   "cell_type": "code",
   "execution_count": 48,
   "metadata": {},
   "outputs": [],
   "source": [
    "model = LogisticRegression()\n",
    "\n",
    "parameters = {'C': [0.01, 0.25, 0.5, 0.75, 1],\n",
    "              'solver': ['lbfgs', 'saga', 'newton-cg', 'sag', 'liblinear'],\n",
    "              'tol': [1, 0.1, 0.01, 0.001, 0.0001],\n",
    "              'penalty': ['l1', 'l2', 'elasticnet']}\n",
    "\n",
    "\n",
    "clf = GridSearchCV(model, parameters, n_jobs=5, \n",
    "                   cv=5, \n",
    "                   scoring='accuracy',\n",
    "                   refit=True)\n",
    "\n",
    "clf.fit(X_train, y_train)\n",
    "clf.best_estimator_"
   ]
  },
  {
   "cell_type": "code",
   "execution_count": null,
   "metadata": {},
   "outputs": [],
   "source": [
    "sample_sizes_gender = []\n",
    "for i in range(1000, 6000, 500):\n",
    "    sample_sizes_gender.append(i)\n",
    "\n",
    "sample_sizes = []\n",
    "for i in range(1000, 9500, 500):\n",
    "    sample_sizes.append(i)"
   ]
  },
  {
   "cell_type": "code",
   "execution_count": null,
   "metadata": {},
   "outputs": [],
   "source": [
    "age_preds = [0.7065050863020835,\n",
    " 0.7277652530808036,\n",
    " 0.7433320330531445,\n",
    " 0.7428359447186145,\n",
    " 0.7348988415913787,\n",
    " 0.7445765332468621,\n",
    " 0.7561212310164757,\n",
    " 0.7486918369390481,\n",
    " 0.7563914236012406,\n",
    " 0.7527007518167743,\n",
    " 0.7574730386507367,\n",
    " 0.7585046772120647,\n",
    " 0.7573845049163584,\n",
    " 0.7626483913823713,\n",
    " 0.7676319321924464,\n",
    " 0.764989555893724,\n",
    " 0.7679941525589526]"
   ]
  },
  {
   "cell_type": "code",
   "execution_count": null,
   "metadata": {},
   "outputs": [],
   "source": [
    "gender_preds = [0.8004743500179003,\n",
    " 0.8065622227425413,\n",
    " 0.8084215280400642,\n",
    " 0.8214528704084145,\n",
    " 0.833778966773781,\n",
    " 0.8320699144344921,\n",
    " 0.8255984333414521,\n",
    " 0.828508465992971,\n",
    " 0.8306102667022429,\n",
    " 0.8355304024973392]"
   ]
  },
  {
   "cell_type": "code",
   "execution_count": null,
   "metadata": {},
   "outputs": [],
   "source": [
    "import matplotlib.pyplot as plt\n",
    "\n",
    "plt.plot(sample_sizes, age_preds, color='orange', label='Age', marker='o')\n",
    "plt.plot(sample_sizes_gender, gender_preds, color='lightblue', label='Gender', marker='o')\n",
    "plt.xlabel('Sample Size', size=15)\n",
    "plt.ylabel('F1-Score', size=15)\n",
    "plt.title('F1 Scores for Age & Gender with incrementing sample size', size=15)\n",
    "plt.legend(loc=\"upper left\")\n",
    "plt.figure(figsize=(20,20))\n",
    "plt.show()"
   ]
  },
  {
   "cell_type": "code",
   "execution_count": null,
   "metadata": {},
   "outputs": [],
   "source": []
  }
 ],
 "metadata": {
  "kernelspec": {
   "display_name": "Python 3",
   "language": "python",
   "name": "python3"
  },
  "language_info": {
   "codemirror_mode": {
    "name": "ipython",
    "version": 3
   },
   "file_extension": ".py",
   "mimetype": "text/x-python",
   "name": "python",
   "nbconvert_exporter": "python",
   "pygments_lexer": "ipython3",
   "version": "3.7.6"
  }
 },
 "nbformat": 4,
 "nbformat_minor": 4
}
